{
 "cells": [
  {
   "cell_type": "code",
   "execution_count": 2,
   "metadata": {},
   "outputs": [],
   "source": [
    "import pandas as pd\n",
    "import numpy as np\n",
    "import matplotlib as plt\n",
    "import pickle"
   ]
  },
  {
   "cell_type": "code",
   "execution_count": 3,
   "metadata": {},
   "outputs": [
    {
     "data": {
      "text/plain": [
       "Index(['Dieninė dedamoji', 'Naktinė dedamoji', 'Pastovioji dedamoji. EUR/mėn.',\n",
       "       'Viena laiko zona', 'Nord pool kaina', 'Metinė infliacija',\n",
       "       'Vidutinė Temperatūra C', 'Pagaminta elektra GWh'],\n",
       "      dtype='object')"
      ]
     },
     "execution_count": 3,
     "metadata": {},
     "output_type": "execute_result"
    }
   ],
   "source": [
    "with open('Paruosti_duomenys.pkl', 'rb') as file:\n",
    "    df_Elektra = pickle.load(file)\n",
    "df_Elektra.reset_index(drop=True, inplace=True)\n",
    "\n",
    "df_Elektra.columns"
   ]
  },
  {
   "cell_type": "code",
   "execution_count": 4,
   "metadata": {},
   "outputs": [],
   "source": [
    "X = df_Elektra[['Dieninė dedamoji', 'Naktinė dedamoji', 'Pastovioji dedamoji. EUR/mėn.',\n",
    "                'Nord pool kaina', 'Metinė infliacija', 'Vidutinė Temperatūra C', 'Pagaminta elektra GWh']]\n",
    "\n",
    "y = df_Elektra['Viena laiko zona']"
   ]
  },
  {
   "cell_type": "code",
   "execution_count": 5,
   "metadata": {},
   "outputs": [
    {
     "data": {
      "text/plain": [
       "0      0.105\n",
       "1      0.105\n",
       "2      0.105\n",
       "3      0.105\n",
       "4      0.105\n",
       "       ...  \n",
       "110    0.203\n",
       "111    0.198\n",
       "112    0.198\n",
       "113    0.198\n",
       "114    0.181\n",
       "Name: Viena laiko zona, Length: 115, dtype: float64"
      ]
     },
     "execution_count": 5,
     "metadata": {},
     "output_type": "execute_result"
    }
   ],
   "source": [
    "y"
   ]
  },
  {
   "cell_type": "code",
   "execution_count": 6,
   "metadata": {},
   "outputs": [],
   "source": [
    "from sklearn.model_selection import train_test_split"
   ]
  },
  {
   "cell_type": "code",
   "execution_count": 7,
   "metadata": {},
   "outputs": [],
   "source": [
    "X_train, X_test, y_train, y_test = train_test_split(X, y, test_size=0.33, random_state=42)"
   ]
  },
  {
   "cell_type": "code",
   "execution_count": 8,
   "metadata": {},
   "outputs": [],
   "source": [
    "from sklearn.linear_model import LinearRegression"
   ]
  },
  {
   "cell_type": "code",
   "execution_count": 9,
   "metadata": {},
   "outputs": [],
   "source": [
    "reg = LinearRegression().fit(X_train, y_train)"
   ]
  },
  {
   "cell_type": "code",
   "execution_count": 10,
   "metadata": {},
   "outputs": [],
   "source": [
    "pred = reg.predict(X_test)"
   ]
  },
  {
   "cell_type": "code",
   "execution_count": 11,
   "metadata": {},
   "outputs": [
    {
     "data": {
      "text/plain": [
       "array([0.14086295, 0.10398911, 0.11314054, 0.15334013, 0.10367679,\n",
       "       0.11225657, 0.1538319 , 0.15485923, 0.11436481, 0.10525641,\n",
       "       0.28795114, 0.11310536, 0.15372587, 0.20438471, 0.13013063,\n",
       "       0.10923648, 0.14012461, 0.11596627, 0.25055444, 0.11295516,\n",
       "       0.15890217, 0.20343207, 0.10603935, 0.11992208, 0.15327466,\n",
       "       0.15697351, 0.21774772, 0.12536524, 0.11026381, 0.21596271,\n",
       "       0.14537816, 0.10467837, 0.12047091, 0.15599243, 0.10306467,\n",
       "       0.11725856, 0.13097185, 0.15271139])"
      ]
     },
     "execution_count": 11,
     "metadata": {},
     "output_type": "execute_result"
    }
   ],
   "source": [
    "pred"
   ]
  },
  {
   "cell_type": "code",
   "execution_count": 12,
   "metadata": {},
   "outputs": [],
   "source": [
    "spejimai = pd.Series(data=pred, name='Spėjimas')"
   ]
  },
  {
   "cell_type": "code",
   "execution_count": 13,
   "metadata": {},
   "outputs": [],
   "source": [
    "rezultatas = pd.concat([y_test.reset_index(), spejimai], axis=1)[['Viena laiko zona', 'Spėjimas']]"
   ]
  },
  {
   "cell_type": "code",
   "execution_count": 14,
   "metadata": {},
   "outputs": [
    {
     "data": {
      "text/html": [
       "<div>\n",
       "<style scoped>\n",
       "    .dataframe tbody tr th:only-of-type {\n",
       "        vertical-align: middle;\n",
       "    }\n",
       "\n",
       "    .dataframe tbody tr th {\n",
       "        vertical-align: top;\n",
       "    }\n",
       "\n",
       "    .dataframe thead th {\n",
       "        text-align: right;\n",
       "    }\n",
       "</style>\n",
       "<table border=\"1\" class=\"dataframe\">\n",
       "  <thead>\n",
       "    <tr style=\"text-align: right;\">\n",
       "      <th></th>\n",
       "      <th>Viena laiko zona</th>\n",
       "      <th>Spėjimas</th>\n",
       "    </tr>\n",
       "  </thead>\n",
       "  <tbody>\n",
       "    <tr>\n",
       "      <th>0</th>\n",
       "      <td>0.141</td>\n",
       "      <td>0.140863</td>\n",
       "    </tr>\n",
       "    <tr>\n",
       "      <th>1</th>\n",
       "      <td>0.105</td>\n",
       "      <td>0.103989</td>\n",
       "    </tr>\n",
       "    <tr>\n",
       "      <th>2</th>\n",
       "      <td>0.114</td>\n",
       "      <td>0.113141</td>\n",
       "    </tr>\n",
       "    <tr>\n",
       "      <th>3</th>\n",
       "      <td>0.149</td>\n",
       "      <td>0.153340</td>\n",
       "    </tr>\n",
       "    <tr>\n",
       "      <th>4</th>\n",
       "      <td>0.105</td>\n",
       "      <td>0.103677</td>\n",
       "    </tr>\n",
       "  </tbody>\n",
       "</table>\n",
       "</div>"
      ],
      "text/plain": [
       "   Viena laiko zona  Spėjimas\n",
       "0             0.141  0.140863\n",
       "1             0.105  0.103989\n",
       "2             0.114  0.113141\n",
       "3             0.149  0.153340\n",
       "4             0.105  0.103677"
      ]
     },
     "execution_count": 14,
     "metadata": {},
     "output_type": "execute_result"
    }
   ],
   "source": [
    "rezultatas.head()"
   ]
  },
  {
   "cell_type": "code",
   "execution_count": 15,
   "metadata": {},
   "outputs": [
    {
     "data": {
      "text/plain": [
       "0.9892734052537978"
      ]
     },
     "execution_count": 15,
     "metadata": {},
     "output_type": "execute_result"
    }
   ],
   "source": [
    "reg.score(X_test, y_test)"
   ]
  },
  {
   "cell_type": "code",
   "execution_count": 16,
   "metadata": {},
   "outputs": [
    {
     "name": "stdout",
     "output_type": "stream",
     "text": [
      "Kryžminės validacijos R^2 reikšmės: [  0.           0.96231983  -1.61968137 -22.49506078   0.73768698\n",
      "   0.8888702   -2.37445543  -0.79141642   0.91304963   0.87911582]\n",
      "Vidutinis R^2 tikslumas: -2.2899571547840707\n"
     ]
    }
   ],
   "source": [
    "from sklearn.preprocessing import StandardScaler, PolynomialFeatures\n",
    "from sklearn.pipeline import make_pipeline\n",
    "from sklearn.model_selection import cross_val_score\n",
    "\n",
    "# Normalizavimas ir polinominės funkcijos\n",
    "poly = PolynomialFeatures(degree=1)\n",
    "scaler = StandardScaler()\n",
    "model = make_pipeline(scaler, poly, LinearRegression())\n",
    "\n",
    "# Apmokome modelį su mokymo duomenimis\n",
    "model.fit(X_train, y_train)\n",
    "\n",
    "# Kryžminė validacija tikslumui įvertinti\n",
    "scores = cross_val_score(model, X, y, cv=10, scoring='r2')\n",
    "print(\"Kryžminės validacijos R^2 reikšmės:\", scores)\n",
    "print(\"Vidutinis R^2 tikslumas:\", scores.mean())"
   ]
  },
  {
   "cell_type": "code",
   "execution_count": 17,
   "metadata": {},
   "outputs": [
    {
     "name": "stdout",
     "output_type": "stream",
     "text": [
      "Kryžminės validacijos R² reikšmės: [0.95925235 0.17503151 0.9683229  0.29046006 0.78182094]\n",
      "Vidutinis R² tikslumas: 0.6349775536175035\n",
      "     Tikrasias reikšmes  Prognozuotas reikšmes\n",
      "0                 0.105               0.108520\n",
      "1                 0.105               0.105699\n",
      "2                 0.105               0.102741\n",
      "3                 0.105               0.101926\n",
      "4                 0.105               0.103722\n",
      "..                  ...                    ...\n",
      "110               0.203               0.245757\n",
      "111               0.198               0.199295\n",
      "112               0.198               0.199273\n",
      "113               0.198               0.199177\n",
      "114               0.181               0.180039\n",
      "\n",
      "[115 rows x 2 columns]\n",
      "\n",
      "Pirmųjų kelias reikšmės iš kryžminės validacijos padalijimų:\n",
      "\n",
      "Padalijimas 1:\n",
      "    Tikrasias reikšmes  Prognozuotas reikšmes\n",
      "0                0.105               0.108520\n",
      "1                0.105               0.105699\n",
      "2                0.105               0.102741\n",
      "3                0.105               0.101926\n",
      "4                0.105               0.103722\n",
      "5                0.105               0.104391\n",
      "6                0.105               0.105813\n",
      "7                0.105               0.106626\n",
      "8                0.105               0.101957\n",
      "9                0.105               0.102547\n",
      "10               0.105               0.103070\n",
      "11               0.105               0.104394\n",
      "12               0.105               0.105547\n",
      "13               0.105               0.105984\n",
      "14               0.105               0.103261\n",
      "15               0.105               0.104659\n",
      "16               0.105               0.106369\n",
      "17               0.127               0.127722\n",
      "18               0.127               0.129919\n",
      "19               0.127               0.130014\n",
      "20               0.127               0.126872\n",
      "21               0.127               0.124565\n",
      "22               0.127               0.124764\n",
      "\n",
      "Padalijimas 2:\n",
      "    Tikrasias reikšmes  Prognozuotas reikšmes\n",
      "23               0.120               0.115139\n",
      "24               0.120               0.116735\n",
      "25               0.120               0.116990\n",
      "26               0.120               0.115400\n",
      "27               0.120               0.115501\n",
      "28               0.120               0.119163\n",
      "29               0.120               0.117958\n",
      "30               0.120               0.119762\n",
      "31               0.120               0.119357\n",
      "32               0.120               0.116115\n",
      "33               0.120               0.116366\n",
      "34               0.120               0.116474\n",
      "35               0.114               0.112371\n",
      "36               0.114               0.112189\n",
      "37               0.114               0.112969\n",
      "38               0.114               0.111975\n",
      "39               0.114               0.112469\n",
      "40               0.114               0.112661\n",
      "41               0.114               0.113733\n",
      "42               0.114               0.115129\n",
      "43               0.114               0.115331\n",
      "44               0.114               0.110027\n",
      "45               0.114               0.111657\n",
      "\n",
      "Padalijimas 3:\n",
      "    Tikrasias reikšmes  Prognozuotas reikšmes\n",
      "46               0.114               0.113625\n",
      "47               0.113               0.113111\n",
      "48               0.113               0.109639\n",
      "49               0.113               0.110592\n",
      "50               0.113               0.108595\n",
      "51               0.113               0.109817\n",
      "52               0.113               0.111904\n",
      "53               0.113               0.112781\n",
      "54               0.113               0.112479\n",
      "55               0.113               0.112345\n",
      "56               0.113               0.109616\n",
      "57               0.113               0.110936\n",
      "58               0.113               0.111001\n",
      "59               0.130               0.129852\n",
      "60               0.130               0.128362\n",
      "61               0.130               0.130193\n",
      "62               0.130               0.130267\n",
      "63               0.130               0.130323\n",
      "64               0.130               0.131676\n",
      "65               0.149               0.152671\n",
      "66               0.149               0.154308\n",
      "67               0.149               0.152763\n",
      "68               0.149               0.151273\n",
      "\n",
      "Padalijimas 4:\n",
      "    Tikrasias reikšmes  Prognozuotas reikšmes\n",
      "69               0.149               0.153633\n",
      "70               0.149               0.153755\n",
      "71               0.137               0.141152\n",
      "72               0.137               0.141518\n",
      "73               0.137               0.143078\n",
      "74               0.137               0.141588\n",
      "75               0.137               0.142147\n",
      "76               0.137               0.141687\n",
      "77               0.141               0.146845\n",
      "78               0.141               0.146335\n",
      "79               0.141               0.147447\n",
      "80               0.141               0.144616\n",
      "81               0.141               0.143861\n",
      "82               0.141               0.144256\n",
      "83               0.152               0.157346\n",
      "84               0.152               0.158003\n",
      "85               0.152               0.159589\n",
      "86               0.152               0.157633\n",
      "87               0.152               0.161939\n",
      "88               0.152               0.158947\n",
      "89               0.152               0.156776\n",
      "90               0.152               0.154915\n",
      "91               0.152               0.147568\n",
      "\n",
      "Padalijimas 5:\n",
      "     Tikrasias reikšmes  Prognozuotas reikšmes\n",
      "92                0.152               0.151476\n",
      "93                0.152               0.152620\n",
      "94                0.152               0.152510\n",
      "95                0.167               0.168061\n",
      "96                0.167               0.168890\n",
      "97                0.167               0.168833\n",
      "98                0.280               0.325271\n",
      "99                0.280               0.325526\n",
      "100               0.280               0.325537\n",
      "101               0.280               0.325400\n",
      "102               0.265               0.252088\n",
      "103               0.265               0.252090\n",
      "104               0.265               0.251815\n",
      "105               0.265               0.252160\n",
      "106               0.265               0.252199\n",
      "107               0.211               0.213945\n",
      "108               0.211               0.213842\n",
      "109               0.211               0.213732\n",
      "110               0.203               0.245757\n",
      "111               0.198               0.199295\n",
      "112               0.198               0.199273\n",
      "113               0.198               0.199177\n",
      "114               0.181               0.180039\n"
     ]
    }
   ],
   "source": [
    "import pandas as pd\n",
    "from sklearn.model_selection import cross_val_score, cross_val_predict\n",
    "import numpy as np\n",
    "y_pred = cross_val_predict(model, X, y, cv=5)\n",
    "scores = cross_val_score(model, X, y, cv=5, scoring='r2')\n",
    "print(\"Kryžminės validacijos R² reikšmės:\", scores)\n",
    "print(\"Vidutinis R² tikslumas:\", scores.mean())\n",
    "comparison = pd.DataFrame({'Tikrasias reikšmes': y, 'Prognozuotas reikšmes': y_pred})\n",
    "print(comparison)\n",
    "print(\"\\nPirmųjų kelias reikšmės iš kryžminės validacijos padalijimų:\")\n",
    "for fold_idx in range(5):\n",
    "    fold_start = fold_idx * len(X) // 5\n",
    "    fold_end = (fold_idx + 1) * len(X) // 5\n",
    "    print(f\"\\nPadalijimas {fold_idx + 1}:\")\n",
    "    print(comparison.iloc[fold_start:fold_end])"
   ]
  }
 ],
 "metadata": {
  "kernelspec": {
   "display_name": "Python 3",
   "language": "python",
   "name": "python3"
  },
  "language_info": {
   "codemirror_mode": {
    "name": "ipython",
    "version": 3
   },
   "file_extension": ".py",
   "mimetype": "text/x-python",
   "name": "python",
   "nbconvert_exporter": "python",
   "pygments_lexer": "ipython3",
   "version": "3.12.4"
  }
 },
 "nbformat": 4,
 "nbformat_minor": 2
}
