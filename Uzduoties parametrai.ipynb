{
 "cells": [
  {
   "cell_type": "markdown",
   "metadata": {},
   "source": [
    "# Baigiamosios užduoties planas\n",
    "\n",
    "## Duomenų surinkimas:\n",
    "1. **Webscrappinti ESO elektros persiuntimo kainą pagal pasirinktą elektros planą. Ji keičiasi ne dažniau kaip du kartus per metus.**  +\n",
    "2. **Išanalizuoti Ignitis tiekiamą elektros kainą.** \n",
    "3. **Iš NordPool biržos pasiimti API duomenis palyginti kainas kokios yra perkamos oficialiai Lietuvai su galutinėmis vartotojui.**  mokama, bet nusikopijavau iš puslapio\n",
    "4. **Gauta kaina pridedama į Pandas ir atvaizduojama grafike.** +\n",
    "5. **Pabandyti gauti kainas per paskutinius 20 metų.** gauta nuo 2015, išplėsti duomenys per mėnesius\n",
    "\n",
    "## Papildomų duomenų pridėjimas:\n",
    "1. **Vidutinė mėnesinė infliacija pridedama į Pandas ir atvaizduojama grafike.** +/-\n",
    "2. **Vidutinė mėnesinė temperatūra pridedama į Pandas ir atvaizduojama grafike.** +/-\n",
    "3. **Vidutinė mėnesinė Nord Pool elektros kaina pridedama į Pandas ir atvaizduojama grafike.** +/-\n",
    "\n",
    "## Jei lieka laiko:\n",
    "1. **Rankiniu būdu ('input') įvedami duomenys pagamintos elektros (nuotolinės arba ant nuosavo namo, daugiabučio). Duomenys imami iš sąskaitos.**\n",
    "2. **Rankiniu būdu ('input') įvedami duomenys suvartotos elektros. Duomenys imami iš sąskaitos.**\n",
    "   - Išsaugojama csv faile, pildoma kas mėnesį.\n",
    "   - Viskas atvaizduojama kitame grafike.\n",
    "\n"
   ]
  }
 ],
 "metadata": {
  "kernelspec": {
   "display_name": "Python 3",
   "language": "python",
   "name": "python3"
  },
  "language_info": {
   "name": "python",
   "version": "3.12.4"
  }
 },
 "nbformat": 4,
 "nbformat_minor": 2
}
